{
  "cells": [
    {
      "cell_type": "code",
      "execution_count": 36,
      "metadata": {
        "colab": {
          "base_uri": "https://localhost:8080/",
          "height": 236
        },
        "id": "BO2XbzgyDjpa",
        "outputId": "86ac042e-4c2b-4a58-ccd0-155b3d6911a9"
      },
      "outputs": [
        {
          "output_type": "stream",
          "name": "stderr",
          "text": [
            "Installing package into ‘/usr/local/lib/R/site-library’\n",
            "(as ‘lib’ is unspecified)\n",
            "\n",
            "Installing package into ‘/usr/local/lib/R/site-library’\n",
            "(as ‘lib’ is unspecified)\n",
            "\n"
          ]
        },
        {
          "output_type": "display_data",
          "data": {
            "text/html": [
              "<dl>\n",
              "\t<dt>$leaflet</dt>\n",
              "\t\t<dd>NULL</dd>\n",
              "\t<dt>$htmlwidgets</dt>\n",
              "\t\t<dd>NULL</dd>\n",
              "</dl>\n"
            ],
            "text/markdown": "$leaflet\n:   NULL\n$htmlwidgets\n:   NULL\n\n\n",
            "text/latex": "\\begin{description}\n\\item[\\$leaflet] NULL\n\\item[\\$htmlwidgets] NULL\n\\end{description}\n",
            "text/plain": [
              "$leaflet\n",
              "NULL\n",
              "\n",
              "$htmlwidgets\n",
              "NULL\n"
            ]
          },
          "metadata": {}
        },
        {
          "output_type": "display_data",
          "data": {
            "text/html": [
              "<style>\n",
              ".dl-inline {width: auto; margin:0; padding: 0}\n",
              ".dl-inline>dt, .dl-inline>dd {float: none; width: auto; display: inline-block}\n",
              ".dl-inline>dt::after {content: \":\\0020\"; padding-right: .5ex}\n",
              ".dl-inline>dt:not(:first-of-type) {padding-left: .5ex}\n",
              "</style><dl class=dl-inline><dt>leaflet</dt><dd>TRUE</dd><dt>htmlwidgets</dt><dd>TRUE</dd></dl>\n"
            ],
            "text/markdown": "leaflet\n:   TRUEhtmlwidgets\n:   TRUE\n\n",
            "text/latex": "\\begin{description*}\n\\item[leaflet] TRUE\n\\item[htmlwidgets] TRUE\n\\end{description*}\n",
            "text/plain": [
              "    leaflet htmlwidgets \n",
              "       TRUE        TRUE "
            ]
          },
          "metadata": {}
        }
      ],
      "source": [
        "#Installing packages may take as long as 10min\n",
        "packages<-c(\"leaflet\", \"htmlwidgets\")\n",
        "sapply(packages, install.packages, character.only=TRUE)\n",
        "sapply(packages, require, character.only=TRUE)"
      ]
    },
    {
      "cell_type": "code",
      "source": [
        "#load pre-installed packages\n",
        "library('tidyverse')\n",
        "library('googledrive')"
      ],
      "metadata": {
        "id": "0w_SuTDiJlqX"
      },
      "execution_count": 37,
      "outputs": []
    },
    {
      "cell_type": "code",
      "source": [
        "#google sheet to csv\n",
        "drive_deauth()\n",
        "drive_download(as_id(\"1yW2ye-mVLCwYsb2SGN7GjLtyKOfX9gKwLLKHj0TimP0\"), overwrite = TRUE, type = \"csv\")\n",
        "demo <- as.data.frame(read.csv(\"squirrels.csv\")) %>% drop_na(c(\"Longitude\",\"Latitude\"))"
      ],
      "metadata": {
        "colab": {
          "base_uri": "https://localhost:8080/"
        },
        "id": "hq7PUvzmJpdM",
        "outputId": "990d84a2-6f7f-450f-8e33-711f4dd7e570"
      },
      "execution_count": 38,
      "outputs": [
        {
          "output_type": "stream",
          "name": "stderr",
          "text": [
            "File downloaded:\n",
            "\n",
            "• \u001b[36msquirrels\u001b[39m \u001b[90m<id: 1yW2ye-mVLCwYsb2SGN7GjLtyKOfX9gKwLLKHj0TimP0>\u001b[39m\n",
            "\n",
            "Saved locally as:\n",
            "\n",
            "• \u001b[34msquirrels.csv\u001b[39m\n",
            "\n"
          ]
        }
      ]
    },
    {
      "cell_type": "code",
      "source": [
        "#leaflet - needs to be downloaded and opened in a browser\n",
        "html <- demo %>%\n",
        "      leaflet() %>%\n",
        "      addTiles(group = \"OSM\")%>%\n",
        "        addProviderTiles(providers$CartoDB.Positron, group = \"CartoDB\") %>%\n",
        "        addProviderTiles(providers$Esri.NatGeoWorldMap, group = \"NatGeo\") %>%\n",
        "        addProviderTiles(providers$Esri.WorldImagery, group = \"ESRI\") %>%\n",
        "      addCircleMarkers(popup = paste(\"Date/Time:\", demo$Timestamp, \"<br>\",\n",
        "                           \"Species:\", demo$Species, \"<br>\",\n",
        "                           \"Ground or Tree:\", demo$ground_tree, \"<br>\",\n",
        "                           \"Interaction?:\", demo$interaction, \"<br>\",\n",
        "                           \"If so, what species?:\", demo$what_species, \"<br>\",\n",
        "                           \"Carrying food?:\", demo$carrying_food, \"<br>\",\n",
        "                           \"Behavior:\", demo$behavior),\n",
        "                       color = \"grey\",\n",
        "                       fillColor = \"red\",\n",
        "                       fillOpacity = 0.7,\n",
        "                       labelOptions = labelOptions(noHide = T, direction = \"bottom\",\n",
        "                                                   offset=c(0,-20), textOnly = TRUE)) %>%\n",
        "      addLayersControl(\n",
        "        baseGroups = c(\"OSM\", \"CartoDB\", \"NatGeo\", \"ESRI\"),\n",
        "        options = layersControlOptions(collapsed = FALSE),\n",
        "        overlayGroups = \"Trees\") %>%\n",
        "      addMiniMap(zoomLevelOffset = -4) %>%\n",
        "      addScaleBar()\n",
        "saveWidget(html, file = \"gulley_squirrels.html\")"
      ],
      "metadata": {
        "colab": {
          "base_uri": "https://localhost:8080/"
        },
        "id": "7N09YTtqLasS",
        "outputId": "80eb7c95-91a6-4193-dca5-47ec28f8c83f"
      },
      "execution_count": 39,
      "outputs": [
        {
          "output_type": "stream",
          "name": "stderr",
          "text": [
            "Assuming \"Longitude\" and \"Latitude\" are longitude and latitude, respectively\n",
            "\n"
          ]
        }
      ]
    }
  ],
  "metadata": {
    "colab": {
      "provenance": []
    },
    "kernelspec": {
      "display_name": "R",
      "name": "ir"
    },
    "language_info": {
      "name": "R"
    }
  },
  "nbformat": 4,
  "nbformat_minor": 0
}